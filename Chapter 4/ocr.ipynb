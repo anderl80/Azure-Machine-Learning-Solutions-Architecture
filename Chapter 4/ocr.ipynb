{
 "cells": [
  {
   "cell_type": "markdown",
   "metadata": {},
   "source": [
    "# OCR Text recognition\n",
    "\n",
    "https://docs.microsoft.com/en-us/azure/cognitive-services/cognitive-services-apis-create-account-cli?tabs=linux\n",
    "\n",
    "https://docs.microsoft.com/en-us/azure/cognitive-services/computer-vision/quickstarts-sdk/client-library?tabs=visual-studio&pivots=programming-language-python\n",
    "\n",
    "https://docs.microsoft.com/en-us/python/api/overview/azure/cognitiveservices-vision-computervision-readme?view=azure-python"
   ]
  },
  {
   "cell_type": "code",
   "execution_count": 21,
   "metadata": {},
   "outputs": [],
   "source": [
    "import os"
   ]
  },
  {
   "cell_type": "markdown",
   "metadata": {},
   "source": [
    "`az login`\n",
    "\n",
    "`az account set --subscription \"<YOUR SUBSCRIPTION ID>\"`"
   ]
  },
  {
   "cell_type": "code",
   "execution_count": 5,
   "metadata": {},
   "outputs": [
    {
     "name": "stdout",
     "output_type": "stream",
     "text": [
      "{\n",
      "  \"id\": \"/subscriptions/d9efb54e-0f23-46e8-bd10-0a46443e6a2d/resourceGroups/rg-aml-book-cogser\",\n",
      "  \"location\": \"westeurope\",\n",
      "  \"managedBy\": null,\n",
      "  \"name\": \"rg-aml-book-cogser\",\n",
      "  \"properties\": {\n",
      "    \"provisioningState\": \"Succeeded\"\n",
      "  },\n",
      "  \"tags\": null,\n",
      "  \"type\": \"Microsoft.Resources/resourceGroups\"\n",
      "}\n"
     ]
    }
   ],
   "source": [
    "!az group create --name rg-aml-book-cogser --location westeurope"
   ]
  },
  {
   "cell_type": "code",
   "execution_count": 1,
   "metadata": {},
   "outputs": [
    {
     "name": "stdout",
     "output_type": "stream",
     "text": [
      "Result\n",
      "-----------------------------------\n",
      "AnomalyDetector\n",
      "CognitiveServices\n",
      "ComputerVision\n",
      "ContentModerator\n",
      "ConversationalLanguageUnderstanding\n",
      "CustomVision.Prediction\n",
      "CustomVision.Training\n",
      "Face\n",
      "FormRecognizer\n",
      "ImmersiveReader\n",
      "Internal.AllInOne\n",
      "LUIS\n",
      "LUIS.Authoring\n",
      "LanguageAuthoring\n",
      "MetricsAdvisor\n",
      "Personalizer\n",
      "QnAMaker\n",
      "QnAMaker.v2\n",
      "SpeechServices\n",
      "TextAnalytics\n",
      "TextTranslation\n"
     ]
    }
   ],
   "source": [
    "!az cognitiveservices account list-kinds -o table"
   ]
  },
  {
   "cell_type": "markdown",
   "metadata": {},
   "source": [
    "If this is the first Cognitive Service you setup, then you must provision it using the Azure Portal and accept the Responsible AI terms. You will see this message:\n",
    "\n",
    "```\n",
    "This subscription cannot create ComputerVision until you agree to Responsible AI terms for this resource. You can agree to Responsible AI terms by creating a resource through the Azure Portal then trying again. For more detail go to https://go.microsoft.com/fwlink/?linkid=2164911\n",
    "```"
   ]
  },
  {
   "cell_type": "code",
   "execution_count": 9,
   "metadata": {},
   "outputs": [
    {
     "name": "stdout",
     "output_type": "stream",
     "text": [
      "\u001b[K{- Starting ..\n",
      "  \"etag\": \"\\\"5b004fd4-0000-0d00-0000-626132ed0000\\\"\",\n",
      "  \"id\": \"/subscriptions/65073a65-465e-4673-852d-3fe1a0c28fa7/resourceGroups/rg-aml-book-cogser/providers/Microsoft.CognitiveServices/accounts/computervision\",\n",
      "  \"identity\": null,\n",
      "  \"kind\": \"ComputerVision\",\n",
      "  \"location\": \"westeurope\",\n",
      "  \"name\": \"computervision\",\n",
      "  \"properties\": {\n",
      "    \"allowedFqdnList\": null,\n",
      "    \"apiProperties\": null,\n",
      "    \"backupUpperLimit\": 20,\n",
      "    \"callRateLimit\": {\n",
      "      \"count\": null,\n",
      "      \"renewalPeriod\": null,\n",
      "      \"rules\": [\n",
      "        {\n",
      "          \"count\": 30.0,\n",
      "          \"dynamicThrottlingEnabled\": true,\n",
      "          \"key\": \"vision.recognizeText\",\n",
      "          \"matchPatterns\": [\n",
      "            {\n",
      "              \"method\": \"POST\",\n",
      "              \"path\": \"vision/recognizeText\"\n",
      "            },\n",
      "            {\n",
      "              \"method\": \"GET\",\n",
      "              \"path\": \"vision/textOperations/*\"\n",
      "            },\n",
      "            {\n",
      "              \"method\": \"*\",\n",
      "              \"path\": \"vision/read/*\"\n",
      "            }\n",
      "          ],\n",
      "          \"minCount\": null,\n",
      "          \"renewalPeriod\": 1.0\n",
      "        },\n",
      "        {\n",
      "          \"count\": 15.0,\n",
      "          \"dynamicThrottlingEnabled\": true,\n",
      "          \"key\": \"vision\",\n",
      "          \"matchPatterns\": [\n",
      "            {\n",
      "              \"method\": \"*\",\n",
      "              \"path\": \"vision/*\"\n",
      "            }\n",
      "          ],\n",
      "          \"minCount\": null,\n",
      "          \"renewalPeriod\": 1.0\n",
      "        },\n",
      "        {\n",
      "          \"count\": 500.0,\n",
      "          \"dynamicThrottlingEnabled\": false,\n",
      "          \"key\": \"container.billing\",\n",
      "          \"matchPatterns\": [\n",
      "            {\n",
      "              \"method\": \"*\",\n",
      "              \"path\": \"billing/*\"\n",
      "            }\n",
      "          ],\n",
      "          \"minCount\": null,\n",
      "          \"renewalPeriod\": 10.0\n",
      "        },\n",
      "        {\n",
      "          \"count\": 20.0,\n",
      "          \"dynamicThrottlingEnabled\": true,\n",
      "          \"key\": \"default\",\n",
      "          \"matchPatterns\": [\n",
      "            {\n",
      "              \"method\": \"*\",\n",
      "              \"path\": \"*\"\n",
      "            }\n",
      "          ],\n",
      "          \"minCount\": null,\n",
      "          \"renewalPeriod\": 1.0\n",
      "        }\n",
      "      ]\n",
      "    },\n",
      "    \"capabilities\": [\n",
      "      {\n",
      "        \"name\": \"VirtualNetworks\",\n",
      "        \"value\": null\n",
      "      },\n",
      "      {\n",
      "        \"name\": \"Container\",\n",
      "        \"value\": \"ComputerVision.VideoAnalytics\"\n",
      "      }\n",
      "    ],\n",
      "    \"customSubDomainName\": null,\n",
      "    \"dateCreated\": \"2022-04-20T20:09:41.4674504Z\",\n",
      "    \"deletionDate\": null,\n",
      "    \"disableLocalAuth\": null,\n",
      "    \"dynamicThrottlingEnabled\": null,\n",
      "    \"encryption\": null,\n",
      "    \"endpoint\": \"https://westeurope.api.cognitive.microsoft.com/\",\n",
      "    \"endpoints\": {\n",
      "      \"Computer Vision\": \"https://westeurope.api.cognitive.microsoft.com/\"\n",
      "    },\n",
      "    \"internalId\": \"7da5d0ffc3cb42d79df199ffeb90b1d6\",\n",
      "    \"isMigrated\": false,\n",
      "    \"migrationToken\": null,\n",
      "    \"networkAcls\": null,\n",
      "    \"privateEndpointConnections\": [],\n",
      "    \"provisioningState\": \"Succeeded\",\n",
      "    \"publicNetworkAccess\": \"Enabled\",\n",
      "    \"quotaLimit\": null,\n",
      "    \"restore\": null,\n",
      "    \"restrictOutboundNetworkAccess\": null,\n",
      "    \"scheduledPurgeDate\": null,\n",
      "    \"skuChangeInfo\": null,\n",
      "    \"userOwnedStorage\": null\n",
      "  },\n",
      "  \"resourceGroup\": \"rg-aml-book-cogser\",\n",
      "  \"sku\": {\n",
      "    \"capacity\": null,\n",
      "    \"family\": null,\n",
      "    \"name\": \"S1\",\n",
      "    \"size\": null,\n",
      "    \"tier\": null\n",
      "  },\n",
      "  \"systemData\": {\n",
      "    \"createdAt\": \"2022-04-20T20:09:41.424783+00:00\",\n",
      "    \"createdBy\": \"andreashopfgartner@hotmail.de\",\n",
      "    \"createdByType\": \"User\",\n",
      "    \"lastModifiedAt\": \"2022-04-21T10:33:17.631898+00:00\",\n",
      "    \"lastModifiedBy\": \"andreashopfgartner@hotmail.de\",\n",
      "    \"lastModifiedByType\": \"User\"\n",
      "  },\n",
      "  \"tags\": null,\n",
      "  \"type\": \"Microsoft.CognitiveServices/accounts\"\n",
      "}\n"
     ]
    }
   ],
   "source": [
    "!az cognitiveservices account create --name computervision --resource-group rg-aml-book-cogser --kind ComputerVision --sku F0 --location westeurope --yes"
   ]
  },
  {
   "cell_type": "code",
   "execution_count": 46,
   "metadata": {},
   "outputs": [],
   "source": [
    "region = !az cognitiveservices account show --resource-group rg-aml-book-cogser --name computervision --query location --output tsv\n",
    "key = !az cognitiveservices account keys list --resource-group rg-aml-book-cogser --name computervision --query key1 --output tsv"
   ]
  },
  {
   "cell_type": "code",
   "execution_count": 61,
   "metadata": {},
   "outputs": [
    {
     "name": "stdout",
     "output_type": "stream",
     "text": [
      "make\n",
      "[36.0, 132.0, 190.0, 128.0, 187.0, 191.0, 37.0, 189.0]\n",
      "things\n",
      "[106.0, 196.0, 274.0, 205.0, 272.0, 251.0, 103.0, 240.0]\n",
      "happen\n",
      "[206.0, 250.0, 411.0, 257.0, 408.0, 326.0, 204.0, 318.0]\n"
     ]
    }
   ],
   "source": [
    "from azure.cognitiveservices.vision.computervision import ComputerVisionClient\n",
    "from azure.cognitiveservices.vision.computervision.models import OperationStatusCodes\n",
    "from msrest.authentication import CognitiveServicesCredentials\n",
    "\n",
    "import os\n",
    "import time\n",
    "\n",
    "credentials = CognitiveServicesCredentials(key)\n",
    "client = ComputerVisionClient(\n",
    "    endpoint=\"https://\" + region + \".api.cognitive.microsoft.com/\",\n",
    "    credentials=credentials\n",
    ")\n",
    "\n",
    "# import models\n",
    "from azure.cognitiveservices.vision.computervision.models import OperationStatusCodes\n",
    "\n",
    "url = \"https://github.com/Azure-Samples/cognitive-services-python-sdk-samples/raw/master/samples/vision/images/make_things_happen.jpg\"\n",
    "raw = True\n",
    "numberOfCharsInOperationId = 36\n",
    "\n",
    "# SDK call\n",
    "rawHttpResponse = client.read(url, language=\"en\", raw=True)\n",
    "\n",
    "# Get ID from returned headers\n",
    "operation_location = rawHttpResponse.headers[\"Operation-Location\"]\n",
    "id_location = len(operation_location) - numberOfCharsInOperationId\n",
    "operation_id = operation_location[id_location:]\n",
    "\n",
    "# Call the \"GET\" API and wait for it to retrieve the results \n",
    "while True:\n",
    "    result = client.get_read_result(operation_id)\n",
    "    if result.status not in ['notStarted', 'running']:\n",
    "        break\n",
    "    time.sleep(1)\n",
    "\n",
    "# Get data\n",
    "if result.status == OperationStatusCodes.succeeded:\n",
    "\n",
    "    for line in result.analyze_result.read_results[0].lines:\n",
    "        print(line.text)\n",
    "        print(line.bounding_box)"
   ]
  },
  {
   "cell_type": "code",
   "execution_count": 64,
   "metadata": {},
   "outputs": [
    {
     "name": "stdout",
     "output_type": "stream",
     "text": [
      "\u001b[K / Finished .."
     ]
    }
   ],
   "source": [
    "!az group delete --name rg-aml-book-cogser -y"
   ]
  }
 ],
 "metadata": {
  "interpreter": {
   "hash": "949777d72b0d2535278d3dc13498b2535136f6dfe0678499012e853ee9abcab1"
  },
  "kernelspec": {
   "display_name": "Python 3.8.13 64-bit",
   "language": "python",
   "name": "python3"
  },
  "language_info": {
   "codemirror_mode": {
    "name": "ipython",
    "version": 3
   },
   "file_extension": ".py",
   "mimetype": "text/x-python",
   "name": "python",
   "nbconvert_exporter": "python",
   "pygments_lexer": "ipython3",
   "version": "3.8.13"
  },
  "orig_nbformat": 4
 },
 "nbformat": 4,
 "nbformat_minor": 2
}
